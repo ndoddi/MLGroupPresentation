{
 "cells": [
  {
   "cell_type": "markdown",
   "id": "3b1ee8fb",
   "metadata": {},
   "source": [
    "## Due date: 5/1/2025\n",
    "For your group project, you are requested to do a complete process of machine learning, which includes\n",
    "Feature extraction, classification, and analysis.\n",
    "You can access the data that we are working with on Canvas -> Modules =-> Subcellular Data"
   ]
  }
 ],
 "metadata": {
  "language_info": {
   "name": "python"
  }
 },
 "nbformat": 4,
 "nbformat_minor": 5
}
