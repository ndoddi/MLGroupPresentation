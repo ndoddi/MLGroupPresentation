{
 "cells": [
  {
   "cell_type": "markdown",
   "id": "3b1ee8fb",
   "metadata": {},
   "source": [
    "## Due date: 5/1/2025\n",
    "### Nandini Doddi & Jeslyn Miranda\n",
    "For your group project, you are requested to do a complete process of machine learning, which includes\n",
    "Feature extraction, classification, and analysis.\n",
    "You can access the data that we are working with on Canvas -> Modules =-> Subcellular Data"
   ]
  },
  {
   "cell_type": "markdown",
   "id": "6f9451b6",
   "metadata": {},
   "source": [
    "### 1:HIIII You need to get the protein sequences (as it was discussed in assignment 3) and extract relevant\n",
    "features that are representative of the protein sequences. You can also use the features that are already\n",
    "available (e.g., Occurrence and Composition).\n",
    "\n",
    "###Project Goal\n",
    "Predict the subcellular localization of Gram-positive bacterial proteins based on their sequences. It’s a multi-class classification problem (4 classes = 4 possible cell locations)."
   ]
  },
  {
   "cell_type": "markdown",
   "id": "26f6ff17",
   "metadata": {},
   "source": [
    "✅ Step-by-Step Plan\n",
    "Step 1: Feature Extraction\n",
    "You can use:\n",
    "\n",
    "✅ Amino Acid Composition (AAC): % of each amino acid in the protein\n",
    "\n",
    "✅ Dipeptide Composition (optional if you want deeper features)\n",
    "\n",
    "✅ Occurrence Features (e.g., binary vector showing whether a certain amino acid appears)\n",
    "\n",
    "✅ Pre-extracted features if provided (data1, data2, etc.)\n",
    "Ex:\n",
    "from collections import Counter\n",
    "\n",
    "def get_aac(sequence):\n",
    "    amino_acids = 'ACDEFGHIKLMNPQRSTVWY'\n",
    "    count = Counter(sequence)\n",
    "    total = len(sequence)\n",
    "    return [count[aa]/total for aa in amino_acids]\n"
   ]
  },
  {
   "cell_type": "code",
   "execution_count": 1,
   "id": "99496a19",
   "metadata": {},
   "outputs": [],
   "source": [
    "from collections import Counter\n",
    "# imports Python's built-in Counter class, which helps count how many times each letter appears in a sequence.\n",
    "#We'll use it to count how often each amino acid appears in a sequence\n",
    "\n",
    "amino_acids = 'ACDEFGHIKLMNPQRSTVWY'\n",
    "#creates a string of all 20 standard amino acids, represented by each letter\n",
    "#this ensures we always calculate features in the same order- even if some acids don't appear in the sequence\n",
    "\n",
    "def compute_aac(sequence): #function to calculate amino acid composition (AAC) for one sequence\n",
    "    length = len(sequence) #measures how long the protein sequence is, or how many letters long\n",
    "    counts = Counter(sequence) #creates a dictionary-like object that counts how many times each acid appears\n",
    "    #ex: for \"AAG\", counts = {'A\": 2, 'G' : 1}\n",
    "    return [counts[aa] / length for aa in amino_acids] #creates a list of relative frequencies- for each amino acid (aa), it divides the count by the sequence length\n",
    "    #ensures each feature is normalized so sequences of different lengths are comparable\n",
    "    #Output: A list of 20 numbers, one for each aa"
   ]
  },
  {
   "cell_type": "code",
   "execution_count": 6,
   "id": "14a5d29f",
   "metadata": {},
   "outputs": [],
   "source": [
    "## Now apply the function to your dataset\n",
    "import pandas as pd\n",
    "\n",
    "#load the dataset\n",
    "g_data = pd.read_csv('g_data (1).csv', header=None)\n",
    "#loads the gram=positive data from the file into a pandas dataframe"
   ]
  },
  {
   "cell_type": "code",
   "execution_count": null,
   "id": "88955bcd",
   "metadata": {},
   "outputs": [],
   "source": []
  },
  {
   "cell_type": "markdown",
   "id": "d8c7d598",
   "metadata": {},
   "source": [
    "### 2: HEY You will need to prepare the data (properly put them together with labels) and use different machine\n",
    "learning methods on them (e.g., K-Nearest Neighbor (KNN), Support Vector Machine (SVM), Naïve\n",
    "Bayes, Artificial Neural Network (ANN), Random Forest, Bagging). As the data suggest, the problem is\n",
    "hand is a multi-class classification task.\n",
    "Note: The problem is protein subcellular localization. The proteins can function in different locations in\n",
    "the cell. Given a protein, it is important to identify its functioning location. For this problem, we are\n",
    "working with Gram-positive bacterial proteins, which function in 4 locations in the cell. So, the problem\n",
    "is to get the training data, extract relevant features, and build a model to predict the functioning\n",
    "location of a given protein.\n",
    "\n",
    "Prepare Data\n",
    "Merge feature files and add labels (Fold 1, Fold 2, etc.).\n",
    "\n",
    "Ensure labels are correctly encoded for classification (e.g., use LabelEncoder).\n",
    "\n",
    "Train/test split or k-fold for evaluation.\n",
    "\n"
   ]
  },
  {
   "cell_type": "markdown",
   "id": "c9bbf68f",
   "metadata": {},
   "source": [
    "### 3: You then need to analyze and interpret your output using different approaches such as:\n",
    "3.1: Using independent test set\n",
    "3.2: k-fold cross validation\n",
    "3.3: check different accuracy measurement\n",
    "3.4: Discuss your results and interpret the output\n",
    "Note: You can do steps 2 and 3 in Python programming language.\n",
    "\n",
    "tep 3: Apply ML Models\n",
    "Use scikit-learn (or Keras for neural networks):\n",
    "\n",
    "Example classifiers:\n",
    "python\n",
    "Copy code\n",
    "from sklearn.ensemble import RandomForestClassifier\n",
    "from sklearn.model_selection import cross_val_score\n",
    "from sklearn.metrics import classification_report\n",
    "\n",
    "model = RandomForestClassifier()\n",
    "model.fit(X_train, y_train)\n",
    "print(classification_report(y_test, model.predict(X_test)))\n",
    "\n",
    "Also try:\n",
    "\n",
    "KNeighborsClassifier\n",
    "\n",
    "SVC\n",
    "\n",
    "GaussianNB\n",
    "\n",
    "MLPClassifier (ANN)\n",
    "\n",
    "BaggingClassifier"
   ]
  },
  {
   "cell_type": "code",
   "execution_count": null,
   "id": "de39d645",
   "metadata": {},
   "outputs": [],
   "source": []
  },
  {
   "cell_type": "markdown",
   "id": "f843ba49",
   "metadata": {},
   "source": [
    "### As the output: You will prepare a report (in Word or text document) that explains what you did in each\n",
    "and every step in detail and present your results, analysis, and discussion (no more than 6 pages). You\n",
    "will also send your codes with proper comments along with your report.\n",
    "\n",
    "6-page max report in Word/Text format:\n",
    "\n",
    "Intro → Feature Engineering → ML Methods → Evaluation → Conclusion\n",
    "\n",
    "Code: Well-commented .py or .ipynb files"
   ]
  }
 ],
 "metadata": {
  "kernelspec": {
   "display_name": "Python 3",
   "language": "python",
   "name": "python3"
  },
  "language_info": {
   "codemirror_mode": {
    "name": "ipython",
    "version": 3
   },
   "file_extension": ".py",
   "mimetype": "text/x-python",
   "name": "python",
   "nbconvert_exporter": "python",
   "pygments_lexer": "ipython3",
   "version": "3.12.1"
  }
 },
 "nbformat": 4,
 "nbformat_minor": 5
}
