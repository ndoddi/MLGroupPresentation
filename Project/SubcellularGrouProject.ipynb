{
 "cells": [
  {
   "cell_type": "markdown",
   "id": "3b1ee8fb",
   "metadata": {},
   "source": [
    "## Due date: 5/1/2025\n",
    "For your group project, you are requested to do a complete process of machine learning, which includes\n",
    "Feature extraction, classification, and analysis.\n",
    "You can access the data that we are working with on Canvas -> Modules =-> Subcellular Data"
   ]
  },
  {
   "cell_type": "markdown",
   "id": "6f9451b6",
   "metadata": {},
   "source": [
    "### 1: You need to get the protein sequences (as it was discussed in assignment 3) and extract relevant\n",
    "features that are representative of the protein sequences. You can also use the features that are already\n",
    "available (e.g., Occurrence and Composition)."
   ]
  },
  {
   "cell_type": "code",
   "execution_count": null,
   "id": "88955bcd",
   "metadata": {
    "vscode": {
     "languageId": "plaintext"
    }
   },
   "outputs": [],
   "source": []
  },
  {
   "cell_type": "markdown",
   "id": "d8c7d598",
   "metadata": {},
   "source": [
    "### 2: HEY You will need to prepare the data (properly put them together with labels) and use different machine\n",
    "learning methods on them (e.g., K-Nearest Neighbor (KNN), Support Vector Machine (SVM), Naïve\n",
    "Bayes, Artificial Neural Network (ANN), Random Forest, Bagging). As the data suggest, the problem is\n",
    "hand is a multi-class classification task.\n",
    "Note: The problem is protein subcellular localization. The proteins can function in different locations in\n",
    "the cell. Given a protein, it is important to identify its functioning location. For this problem, we are\n",
    "working with Gram-positive bacterial proteins, which function in 4 locations in the cell. So, the problem\n",
    "is to get the training data, extract relevant features, and build a model to predict the functioning\n",
    "location of a given protein."
   ]
  },
  {
   "cell_type": "code",
   "execution_count": null,
   "id": "6a95643e",
   "metadata": {
    "vscode": {
     "languageId": "plaintext"
    }
   },
   "outputs": [],
   "source": []
  },
  {
   "cell_type": "markdown",
   "id": "c9bbf68f",
   "metadata": {},
   "source": [
    "### 3: You then need to analyze and interpret your output using different approaches such as:\n",
    "3.1: Using independent test set\n",
    "3.2: k-fold cross validation\n",
    "3.3: check different accuracy measurement\n",
    "3.4: Discuss your results and interpret the output\n",
    "Note: You can do steps 2 and 3 in Python programming language."
   ]
  },
  {
   "cell_type": "code",
   "execution_count": null,
   "id": "de39d645",
   "metadata": {
    "vscode": {
     "languageId": "plaintext"
    }
   },
   "outputs": [],
   "source": []
  },
  {
   "cell_type": "markdown",
   "id": "f843ba49",
   "metadata": {},
   "source": [
    "### As the output: You will prepare a report (in Word or text document) that explains what you did in each\n",
    "and every step in detail and present your results, analysis, and discussion (no more than 6 pages). You\n",
    "will also send your codes with proper comments along with your report."
   ]
  }
 ],
 "metadata": {
  "language_info": {
   "name": "python"
  }
 },
 "nbformat": 4,
 "nbformat_minor": 5
}
