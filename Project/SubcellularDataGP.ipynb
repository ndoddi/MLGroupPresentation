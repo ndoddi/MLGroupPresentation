{ #helloo
 "cells": }
   "cell_type":{
    "cells": [
     {
      "cell_type": "code",
      "execution_count": null,
      "id": "d79bbc85",
      "metadata": {
       "vscode": {
        "languageId": "plaintext"
       }
      },
      "outputs": [],
      "source": []
     }
    ],
    "metadata": {
     "language_info": {
      "name": "python"
     }
    },
    "nbformat": 4,
    "nbformat_minor": 5
   }{
    "cells": [
     {
      "cell_type": "code",
      "execution_count": null,
      "id": "d79bbc85",
      "metadata": {
       "vscode": {
        "languageId": "plaintext"
       }
      },
      "outputs": [],
      "source": []
     }
    ],
    "metadata": {
     "language_info": {
      "name": "python"
     }
    },
    "nbformat": 4,
    "nbformat_minor": 5
   } "code",
   "execution_count": null,
   "id": "d79bbc85",
   "metadata": {
    "vscode": {
     "languageId": "plaintext"
    }
   },
   "outputs": [],
   "source": []
  }
 ],
 "metadata": {
  "language_info": {
   "name": "python"
  }
 },
 "nbformat": 4,
 "nbformat_minor": 5
}
